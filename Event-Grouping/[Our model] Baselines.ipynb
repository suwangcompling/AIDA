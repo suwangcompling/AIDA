{
 "cells": [
  {
   "cell_type": "code",
   "execution_count": 41,
   "metadata": {},
   "outputs": [],
   "source": [
    "import sys\n",
    "sys.path.insert(0, \"/work/04233/sw33286/AIDA-SCRIPTS\")\n",
    "sys.path.insert(0, \"/home/04233/sw33286/AIDA-package\")"
   ]
  },
  {
   "cell_type": "code",
   "execution_count": 42,
   "metadata": {},
   "outputs": [],
   "source": [
    "import os\n",
    "import time\n",
    "import random\n",
    "import dill\n",
    "import numpy as np\n",
    "\n",
    "from sklearn.cluster import KMeans\n",
    "\n",
    "from kmedoids import kMedoids\n",
    "from scipy.spatial.distance import pdist, squareform\n",
    "\n",
    "from sklearn.metrics import accuracy_score\n",
    "\n",
    "from helpers import Indexer\n",
    "from itertools import chain"
   ]
  },
  {
   "cell_type": "code",
   "execution_count": 8,
   "metadata": {},
   "outputs": [],
   "source": [
    "# Link to NYT data folder\n",
    "\n",
    "nyt_code_dir = \"/work/04233/sw33286/AIDA-DATA/nyt_eng_salads_event_code/\"\n",
    "FILE_NAMES = os.listdir(nyt_code_dir)\n",
    "NUM_FILES = len(FILE_NAMES)\n",
    "\n",
    "# Link to dictionary information\n",
    "\n",
    "info_path = \"/work/04233/sw33286/AIDA-DATA/nyt_eng_salads_info/indexer_word2emb_100k_event.p\"\n",
    "indexer100k, word2emb100k = dill.load(open(info_path, 'rb'))"
   ]
  },
  {
   "cell_type": "code",
   "execution_count": 43,
   "metadata": {},
   "outputs": [],
   "source": [
    "def sent_to_avg_emb(esent):\n",
    "    embs = np.array([word2emb100k[indexer100k.get_object(code)] \n",
    "                     for code in chain.from_iterable(esent)])\n",
    "    return embs.mean(axis=0)\n",
    "\n",
    "def get_rand_mixture(): # and turn the stuff into a list of average word embs.\n",
    "    rand_filename = FILE_NAMES[np.random.randint(0, NUM_FILES)]\n",
    "    edoc_a,edoc_b,edoc_mix = dill.load(open(nyt_code_dir+rand_filename, 'rb'))\n",
    "    edoc_avg_embs, edoc_lbs = [], []\n",
    "    for esent in edoc_mix:\n",
    "        edoc_lbs.append(0 if esent in edoc_a else 1)\n",
    "        edoc_avg_embs.append(sent_to_avg_emb(esent))\n",
    "    return np.array(edoc_avg_embs), np.array(edoc_lbs)\n",
    "\n",
    "# K-Means\n",
    "\n",
    "def run_kmeans(doc):\n",
    "    km = KMeans(n_clusters=2).fit(doc)\n",
    "    return km.labels_\n",
    "\n",
    "# K-Medoids\n",
    "\n",
    "def to_labels(C, doc_len): # C: {cls:[datum_id, ...], ...}\n",
    "    lbs = [0]*doc_len\n",
    "    for idx in C[1]:\n",
    "        lbs[idx] = 1\n",
    "    return lbs\n",
    "\n",
    "def run_kmedoids(doc):\n",
    "    _, C = kMedoids(squareform(pdist(doc)), 2)\n",
    "    return to_labels(C, len(doc))"
   ]
  },
  {
   "cell_type": "code",
   "execution_count": 45,
   "metadata": {},
   "outputs": [],
   "source": [
    "def flip_clust(clust):\n",
    "    return np.array([0 if i==1 else 1 for i in clust])\n",
    "\n",
    "def clust_accuracy(true, pred):\n",
    "    return max(accuracy_score(true, pred),\n",
    "               accuracy_score(true, flip_clust(pred)))\n",
    "\n",
    "def rand_evaluation(eval_fn, k=1000):\n",
    "    accuracies = []\n",
    "    for _ in range(k):\n",
    "        doc_mix, doc_labels = get_rand_mixture()\n",
    "        acc = clust_accuracy(doc_labels, eval_fn(doc_mix))\n",
    "        accuracies.append(acc)\n",
    "    return np.mean(accuracies)"
   ]
  },
  {
   "cell_type": "markdown",
   "metadata": {},
   "source": [
    "### K-Means results"
   ]
  },
  {
   "cell_type": "code",
   "execution_count": 47,
   "metadata": {},
   "outputs": [
    {
     "name": "stdout",
     "output_type": "stream",
     "text": [
      "... Round 1 (time elapsed = 17.779610872268677)\n",
      "... Round 2 (time elapsed = 18.366278886795044)\n",
      "... Round 3 (time elapsed = 17.64204502105713)\n",
      "... Round 4 (time elapsed = 17.59988760948181)\n",
      "... Round 5 (time elapsed = 17.79797601699829)\n",
      "... Round 6 (time elapsed = 17.701401233673096)\n",
      "... Round 7 (time elapsed = 17.260531663894653)\n",
      "... Round 8 (time elapsed = 17.30229115486145)\n",
      "... Round 9 (time elapsed = 17.535613298416138)\n",
      "... Round 10 (time elapsed = 17.329511642456055)\n",
      "\n",
      "\n",
      "Average accuracy over 10000 samples = 0.6475835282767155\n",
      "CPU times: user 1min 39s, sys: 2.21 s, total: 1min 42s\n",
      "Wall time: 2min 56s\n"
     ]
    }
   ],
   "source": [
    "%%time\n",
    "\n",
    "n_round = 10\n",
    "n_sample = 1000\n",
    "avg_accs = []\n",
    "start = time.time()\n",
    "for i in range(n_round):\n",
    "    print('... Round {}'.format(i+1), end=' ')\n",
    "    avg_accs.append(rand_evaluation(run_kmeans, k=n_sample))\n",
    "    print('(time elapsed = {})'.format(time.time()-start))\n",
    "    start = time.time()\n",
    "print('\\n')\n",
    "print('Average accuracy over {} samples = {}'.format(n_round*n_sample, np.mean(avg_accs)))"
   ]
  },
  {
   "cell_type": "markdown",
   "metadata": {},
   "source": [
    "### K-Medoids result"
   ]
  },
  {
   "cell_type": "code",
   "execution_count": 48,
   "metadata": {},
   "outputs": [
    {
     "name": "stdout",
     "output_type": "stream",
     "text": [
      "... Round 1 (time elapsed = 9.545044183731079)\n",
      "... Round 2 (time elapsed = 9.90142822265625)\n",
      "... Round 3 (time elapsed = 9.728882551193237)\n",
      "... Round 4 (time elapsed = 9.336431503295898)\n",
      "... Round 5 (time elapsed = 9.819844722747803)\n",
      "... Round 6 (time elapsed = 9.640764236450195)\n",
      "... Round 7 (time elapsed = 9.59523868560791)\n",
      "... Round 8 (time elapsed = 9.054999113082886)\n",
      "... Round 9 (time elapsed = 8.870564699172974)\n",
      "... Round 10 (time elapsed = 9.697452068328857)\n",
      "\n",
      "\n",
      "Average accuracy over 10000 samples = 0.6469381204408126\n",
      "CPU times: user 20 s, sys: 2.45 s, total: 22.5 s\n",
      "Wall time: 1min 35s\n"
     ]
    }
   ],
   "source": [
    "%%time\n",
    "\n",
    "n_round = 10\n",
    "n_sample = 1000\n",
    "avg_accs = []\n",
    "start = time.time()\n",
    "for i in range(n_round):\n",
    "    print('... Round {}'.format(i+1), end=' ')\n",
    "    avg_accs.append(rand_evaluation(run_kmedoids, k=n_sample))\n",
    "    print('(time elapsed = {})'.format(time.time()-start))\n",
    "    start = time.time()\n",
    "print('\\n')\n",
    "print('Average accuracy over {} samples = {}'.format(n_round*n_sample, np.mean(avg_accs)))"
   ]
  }
 ],
 "metadata": {
  "kernelspec": {
   "display_name": "Python 3",
   "language": "python",
   "name": "python3"
  },
  "language_info": {
   "codemirror_mode": {
    "name": "ipython",
    "version": 3
   },
   "file_extension": ".py",
   "mimetype": "text/x-python",
   "name": "python",
   "nbconvert_exporter": "python",
   "pygments_lexer": "ipython3",
   "version": "3.5.2"
  }
 },
 "nbformat": 4,
 "nbformat_minor": 2
}
