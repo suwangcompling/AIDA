{
 "cells": [
  {
   "cell_type": "code",
   "execution_count": 1,
   "metadata": {},
   "outputs": [],
   "source": [
    "import sys\n",
    "sys.path.insert(0, \"/work/04233/sw33286/AIDA-SCRIPTS\")"
   ]
  },
  {
   "cell_type": "code",
   "execution_count": 51,
   "metadata": {},
   "outputs": [],
   "source": [
    "import os\n",
    "import random\n",
    "import shutil\n",
    "import numpy as np\n",
    "\n",
    "import tensorflow as tf\n",
    "from tensorflow.contrib.rnn import LSTMCell, MultiRNNCell, DropoutWrapper\n",
    "\n",
    "from helpers import Indexer, batch\n",
    "from itertools import chain, product"
   ]
  },
  {
   "cell_type": "markdown",
   "metadata": {},
   "source": [
    "### Prepare data"
   ]
  },
  {
   "cell_type": "code",
   "execution_count": 3,
   "metadata": {},
   "outputs": [],
   "source": [
    "SHARED_SIZE = 2 # size of noise (or, common vocab for all types).\n",
    "\n",
    "TYPES = ['ANIMAL','VEHICLE','NATURE','FURNITURE','FRUIT']\n",
    "SHARED_VOCAB = ['share'+str(i+1) for i in range(SHARED_SIZE)]\n",
    "TYPE2VOCAB = {'ANIMAL': ['cat','dog','pig','horse','deer']            + SHARED_VOCAB,\n",
    "              'VEHICLE': ['car','bike','motorcycle','train','bus']    + SHARED_VOCAB,\n",
    "              'NATURE': ['hill','mountain','lake','river','valley']   + SHARED_VOCAB,\n",
    "              'FURNITURE': ['stool','table','closet','cabinet','bed'] + SHARED_VOCAB,\n",
    "              'FRUIT': ['apple','pear','strawberry','grape','tomato'] + SHARED_VOCAB}\n",
    "VOCAB = list(chain.from_iterable(TYPE2VOCAB.values()))\n",
    "\n",
    "indexer = Indexer()\n",
    "indexer.get_index('PAD')\n",
    "for word in VOCAB:\n",
    "    indexer.get_index(word)"
   ]
  },
  {
   "cell_type": "code",
   "execution_count": 43,
   "metadata": {},
   "outputs": [],
   "source": [
    "DOC_LEN = 5\n",
    "SENT_FROM_LEN = 5\n",
    "SENT_TO_LEN = 15\n",
    "CTX_LEN = ((SENT_TO_LEN-SENT_FROM_LEN)//2)*DOC_LEN\n",
    "\n",
    "def to_sent(code):\n",
    "    return [indexer.get_object(idx) for idx in code]\n",
    "\n",
    "def get_rand_sent_code(sem_type, sent_len):\n",
    "    return [indexer.get_index(np.random.choice(TYPE2VOCAB[sem_type])) for _ in range(sent_len)]\n",
    "\n",
    "def get_mixture(type1, type2):\n",
    "    doc_a = [get_rand_sent_code(type1, np.random.randint(SENT_FROM_LEN, SENT_TO_LEN)) for _ in range(DOC_LEN)]\n",
    "    doc_b = [get_rand_sent_code(type2, np.random.randint(SENT_FROM_LEN, SENT_TO_LEN)) for _ in range(DOC_LEN)]\n",
    "    doc_mix = np.array(doc_a[:] + doc_b[:])\n",
    "    doc_lbs = np.array([0]*DOC_LEN + [1]*DOC_LEN)\n",
    "    indices = list(range(DOC_LEN*2))\n",
    "    random.shuffle(indices)\n",
    "    doc_mix = doc_mix[indices]\n",
    "    doc_lbs = doc_lbs[indices]\n",
    "    return doc_a, doc_b, doc_mix, doc_lbs\n",
    "    \n",
    "# def batch_mixture(doc_a, doc_b, doc_mix, k):\n",
    "#     batch_x1, batch_x2, batch_ctx, batch_y = [], [], [], []\n",
    "#     ys = [1,0,0,1]\n",
    "#     doc_mix_flat = list(chain.from_iterable(doc_mix))\n",
    "#     doc_mix_len = len(doc_mix_flat)\n",
    "#     doc_mix_padded = np.array(doc_mix_flat[:CTX_LEN]) if doc_mix_len>=CTX_LEN else np.array(doc_mix_flat+[0]*(CTX_LEN-doc_mix_len))\n",
    "#     for _ in range(k):\n",
    "#         for i,(da,db) in enumerate(product([doc_a,doc_b],[doc_a,doc_b])):\n",
    "#             batch_x1.append(random.choice(da))\n",
    "#             batch_x2.append(random.choice(db))\n",
    "#             batch_y.append(ys[i])\n",
    "#     return batch(batch_x1), batch(batch_x2), batch([doc_mix_padded]), np.array(batch_y)\n",
    "\n",
    "# def get_batch(n=40):\n",
    "#     if n%4!=0:\n",
    "#         raise ValueError('The current generation scheme only supports multiples of 4 for batch size!')\n",
    "#     type1, type2 = np.random.choice(TYPES, 2, replace=False)\n",
    "#     doc_a, doc_b, doc_mix, _ = get_mixture(type1, type2) # document labels isn't germane here.\n",
    "#     (batch_x1,batch_x1_len), (batch_x2,batch_x2_len), (batch_ctx,batch_ctx_len), batch_y = \\\n",
    "#                                                                 batch_mixture(doc_a,doc_b,doc_mix,n//4)\n",
    "#     return batch_x1,batch_x1_len,batch_x2,batch_x2_len,batch_ctx,batch_ctx_len,batch_y\n",
    "\n",
    "def batch_mixture(doc_a, doc_b, k):\n",
    "    batch_x1, batch_x2, batch_y = [], [], []\n",
    "    ys = [1,0,0,1]\n",
    "    for _ in range(k):\n",
    "        for i,(da,db) in enumerate(product([doc_a,doc_b],[doc_a,doc_b])):\n",
    "            batch_x1.append(random.choice(da))\n",
    "            batch_x2.append(random.choice(db))\n",
    "            batch_y.append(ys[i])\n",
    "    return batch_x1, batch_x2, batch_y\n",
    "\n",
    "def get_batch(n=40):\n",
    "    if n%4!=0:\n",
    "        raise ValueError('The current generation scheme only supports multiples of 4 for batch size!')\n",
    "    type1, type2 = np.random.choice(TYPES, 2, replace=False)\n",
    "    doc_a, doc_b, doc_mix, _ = get_mixture(type1, type2) # document labels isn't germane here.\n",
    "    batch_x1, batch_x2, batch_y = batch_mixture(doc_a,doc_b,n//4)\n",
    "    return batch_x1, batch_x2, batch_y"
   ]
  },
  {
   "cell_type": "markdown",
   "metadata": {},
   "source": [
    "### Mutual attention"
   ]
  },
  {
   "cell_type": "code",
   "execution_count": 42,
   "metadata": {},
   "outputs": [],
   "source": [
    "tf.reset_default_graph()\n",
    "\n",
    "sess = tf.InteractiveSession()\n",
    "\n",
    "VOCAB_SIZE = len(indexer)\n",
    "EMB_SIZE = 20\n",
    "HID_SIZE = 10\n",
    "NUM_LAYERS = 2\n",
    "KEEP_PROB = 0.7\n",
    "\n",
    "input_x1 = tf.placeholder(tf.int32, [None, 1], name='input_x1') # <max-time, batch-size>\n",
    "input_x2 = tf.placeholder(tf.int32, [None, 1], name='input_x2')\n",
    "input_x1_length = tf.placeholder(tf.int32, [1], name='input_x1_length')\n",
    "input_x2_length = tf.placeholder(tf.int32, [1], name='input_x2_length')\n",
    "input_y  = tf.placeholder(tf.int32, [1], name='input_y')\n",
    "\n",
    "keep_prob = tf.placeholder(tf.float32, name=\"keep_prob\")\n",
    "\n",
    "with tf.variable_scope('Embeddings'):\n",
    "    embeddings = tf.get_variable('embeddings', [VOCAB_SIZE, EMB_SIZE], \n",
    "                                 initializer=tf.contrib.layers.xavier_initializer())\n",
    "    input_x1_embedded = tf.nn.embedding_lookup(embeddings, input_x1) # <max-time, batch-size, emb-size>\n",
    "    input_x2_embedded = tf.nn.embedding_lookup(embeddings, input_x2)\n",
    "    \n",
    "cell = DropoutWrapper(LSTMCell(HID_SIZE),output_keep_prob=keep_prob)\n",
    "    \n",
    "def run_sent_lstm(cell, inputs, inputs_length):\n",
    "    ((fw_outputs,bw_outputs), # <max-time, batch-size, hid-size>, attention later if needed.\n",
    "     (fw_final_state,bw_final_state)) = ( # <batch-size, hid-size>\n",
    "        tf.nn.bidirectional_dynamic_rnn(cell_fw=cell,\n",
    "                                        cell_bw=cell,\n",
    "                                        inputs=inputs,\n",
    "                                        sequence_length=inputs_length,\n",
    "                                        dtype=tf.float32, time_major=True)\n",
    "    )\n",
    "    return tf.concat([fw_final_state.h,bw_final_state.h], 1), \\\n",
    "           tf.squeeze(tf.concat([fw_outputs,bw_outputs], 2), 1)\n",
    "        # op1: <batch-size, hid-size*2>\n",
    "        # op2: <max-time, batch-size, hid-size*2> -> <max-time, hid-size*2>\n",
    "        # NB: batch-size = 1 here.\n",
    "\n",
    "with tf.variable_scope('Bi-LSTM') as scope:\n",
    "    final_state_x1, outputs_x1 = run_sent_lstm(cell, input_x1_embedded, input_x1_length)\n",
    "    scope.reuse_variables() # both sentence inputs share the same weights.\n",
    "    final_state_x2, outputs_x2 = run_sent_lstm(cell, input_x2_embedded, input_x2_length)\n",
    "\n",
    "def run_attention(d_mat, s_vec):\n",
    "    W_d = tf.get_variable('W_d', [HID_SIZE*2, HID_SIZE*2], initializer=tf.contrib.layers.xavier_initializer())\n",
    "    W_s = tf.get_variable('W_s', [HID_SIZE*2, HID_SIZE*2], initializer=tf.contrib.layers.xavier_initializer())\n",
    "    d_W = tf.matmul(d_mat, W_d) # <max-time,20> * <20,20> = <max-time,20>\n",
    "    s_W = tf.squeeze(tf.matmul(s_vec, W_s), 0) # <1,20> * <20,20> = <1,20> -> <20,>\n",
    "    a_mat = tf.nn.tanh(tf.add(d_W, s_W)) # <max-time,20>\n",
    "    W_a = tf.get_variable('W_a', [HID_SIZE*2, 1], initializer=tf.contrib.layers.xavier_initializer()) # <20,1>\n",
    "    a_W = tf.transpose(tf.matmul(a_mat, W_a), [1,0]) # <1,max-time>\n",
    "    d_a = tf.matmul(a_W, d_mat) # <1,20>\n",
    "    return d_a\n",
    "\n",
    "with tf.variable_scope('Mutual-Attention') as scope:\n",
    "    x1_to_x2_attvec = run_attention(outputs_x2, final_state_x1) # x1 attending to x2\n",
    "    scope.reuse_variables()\n",
    "    x2_to_x1_attvec = run_attention(outputs_x1, final_state_x2) # x2 attending to x1\n",
    "    \n",
    "def run_scores(fs_x1, fs_x2, av_12, av_21):\n",
    "    W_bi = tf.get_variable('W_bi', [HID_SIZE*4, HID_SIZE*4], initializer=tf.contrib.layers.xavier_initializer())\n",
    "    fv_x1 = tf.concat([fs_x1,av_12],axis=1) # <1,40>\n",
    "    fv_x2 = tf.concat([fs_x2,av_21],axis=1)\n",
    "    return tf.nn.sigmoid(tf.diag_part(tf.matmul(tf.matmul(fv_x1,W_bi),tf.transpose(fv_x2))),name='scores')\n",
    "\n",
    "scores = run_scores(final_state_x1, final_state_x2, x1_to_x2_attvec, x2_to_x1_attvec)\n",
    "predictions = tf.cast(tf.round(scores), tf.int32, name='predictions') \n",
    "\n",
    "with tf.name_scope('Loss'):\n",
    "    losses = tf.nn.sigmoid_cross_entropy_with_logits(labels=tf.cast(input_y, tf.float32), logits=scores)\n",
    "    loss = tf.reduce_mean(losses)\n",
    "\n",
    "with tf.name_scope('Accuracy'):\n",
    "    correct_predictions = tf.equal(predictions, input_y)\n",
    "    accuracy = tf.reduce_mean(tf.cast(correct_predictions, tf.float32), name='accuracy')\n",
    "    \n",
    "global_step = tf.Variable(0, name='global_step', trainable=False)\n",
    "optimizer = tf.train.AdamOptimizer(1e-5)\n",
    "grads_and_vars = optimizer.compute_gradients(loss)\n",
    "train_op = optimizer.apply_gradients(grads_and_vars, global_step=global_step, name='train_op')\n",
    "\n",
    "sess.run(tf.global_variables_initializer())"
   ]
  },
  {
   "cell_type": "code",
   "execution_count": 58,
   "metadata": {
    "scrolled": true
   },
   "outputs": [
    {
     "name": "stdout",
     "output_type": "stream",
     "text": [
      "Epoch  1\n",
      "\n",
      "\n",
      "  batch loss & accuracy at step 423500: <0.5032082796096802, 1.0>\n",
      "  batch loss & accuracy at step 423600: <0.5042983293533325, 1.0>\n",
      "  batch loss & accuracy at step 423700: <0.5061130523681641, 0.9964788556098938>\n",
      "  batch loss & accuracy at step 423800: <0.5115534663200378, 0.984375>\n",
      "  batch loss & accuracy at step 423900: <0.5098389387130737, 0.9876033067703247>\n",
      "  batch loss & accuracy at step 424000: <0.5089454054832458, 0.9897260069847107>\n",
      "  batch loss & accuracy at step 424100: <0.5081626772880554, 0.9912280440330505>\n",
      "  batch loss & accuracy at step 424200: <0.5080155730247498, 0.9910714030265808>\n",
      "  batch loss & accuracy at step 424300: <0.507568895816803, 0.9920814633369446>\n",
      "  batch loss & accuracy at step 424400: <0.5086782574653625, 0.9888211488723755>\n",
      "  batch loss & accuracy at step 424500: <0.5087453722953796, 0.9889298677444458>\n",
      "  batch loss & accuracy at step 424600: <0.5082774758338928, 0.9898648858070374>\n",
      "  batch loss & accuracy at step 424700: <0.5083699226379395, 0.9898753762245178>\n",
      "  batch loss & accuracy at step 424800: <0.507996678352356, 0.990606963634491>\n",
      "  batch loss & accuracy at step 424900: <0.5076737999916077, 0.9912399053573608>\n",
      "  batch loss & accuracy at step 425000: <0.507391631603241, 0.9917929172515869>\n",
      "  batch loss & accuracy at step 425100: <0.5072242617607117, 0.9922803044319153>\n",
      "  batch loss & accuracy at step 425200: <0.5069988965988159, 0.9927130341529846>\n",
      "  batch loss & accuracy at step 425300: <0.5068110227584839, 0.9930998086929321>\n",
      "  batch loss & accuracy at step 425400: <0.5066519379615784, 0.9934476017951965>\n",
      "  batch loss & accuracy at step 425500: <0.5064864754676819, 0.9937620162963867>\n",
      "  batch loss & accuracy at step 425600: <0.5071881413459778, 0.9926739931106567>\n",
      "  batch loss & accuracy at step 425700: <0.507017970085144, 0.9929947257041931>\n",
      "  batch loss & accuracy at step 425800: <0.5068586468696594, 0.9932885766029358>\n",
      "  batch loss & accuracy at step 425900: <0.506711483001709, 0.9935587644577026>\n",
      "  batch loss & accuracy at step 426000: <0.5065758228302002, 0.9938080310821533>\n",
      "  batch loss & accuracy at step 426100: <0.5064502358436584, 0.9940387606620789>\n",
      "  batch loss & accuracy at step 426200: <0.5065930485725403, 0.9938936829566956>\n",
      "  batch loss & accuracy at step 426300: <0.5064892768859863, 0.9941053986549377>\n",
      "  batch loss & accuracy at step 426400: <0.5065872073173523, 0.9939678311347961>\n",
      "  batch loss & accuracy at step 426500: <0.5065630078315735, 0.994163453578949>\n",
      "Stopped!\n"
     ]
    }
   ],
   "source": [
    "NUM_EPOCHS = 50\n",
    "NUM_BATCHES = 1000\n",
    "VERBOSE = 100\n",
    "\n",
    "try:\n",
    "    loss_track, accuracy_track = [], []\n",
    "    for e in range(NUM_EPOCHS):\n",
    "        print('Epoch ', e+1)\n",
    "        print('\\n')\n",
    "        curr_loss_track, curr_accuracy_track = [], []\n",
    "        for _ in range(NUM_BATCHES):\n",
    "            batch_x1, batch_x2, batch_y = get_batch()\n",
    "            for x1, x2, y in zip(batch_x1,batch_x2,batch_y):\n",
    "                x1,x1_len = batch([x1])\n",
    "                x2,x2_len = batch([x2])\n",
    "                y = [y]\n",
    "                fd = {input_x1:x1, input_x1_length:x1_len,\n",
    "                      input_x2:x2, input_x2_length:x2_len,\n",
    "                      input_y:y,\n",
    "                      keep_prob:KEEP_PROB}\n",
    "                _, step, loss_, accuracy_ = sess.run([train_op, global_step, loss, accuracy], feed_dict=fd)\n",
    "                curr_loss_track.append(loss_)\n",
    "                curr_accuracy_track.append(accuracy_)\n",
    "                if step%VERBOSE==0:\n",
    "                    print('  batch loss & accuracy at step {}: <{}, {}>'.format(step, np.mean(curr_loss_track), \n",
    "                                                                                      np.mean(curr_accuracy_track)))\n",
    "            loss_track += curr_loss_track\n",
    "            accuracy_track += curr_accuracy_track\n",
    "except KeyboardInterrupt:\n",
    "    print('Stopped!')            "
   ]
  },
  {
   "cell_type": "markdown",
   "metadata": {},
   "source": [
    "### Clustering evaluation"
   ]
  },
  {
   "cell_type": "code",
   "execution_count": 94,
   "metadata": {},
   "outputs": [],
   "source": [
    "from scipy.cluster.hierarchy import dendrogram, linkage\n",
    "from scipy.cluster.hierarchy import fcluster\n",
    "from collections import defaultdict\n",
    "import matplotlib.pyplot as plt\n",
    "%matplotlib inline\n",
    "from sklearn.metrics import accuracy_score\n",
    "import colorama\n",
    "from colorama import Fore, Back, Style"
   ]
  },
  {
   "cell_type": "code",
   "execution_count": 97,
   "metadata": {},
   "outputs": [],
   "source": [
    "def dist(x1, x2):\n",
    "    x1,x1_len = batch([x1])\n",
    "    x2,x2_len = batch([x2])\n",
    "    fd = {input_x1:x1, input_x1_length:x1_len,\n",
    "          input_x2:x2, input_x2_length:x2_len,\n",
    "          keep_prob:KEEP_PROB}\n",
    "    conf = sess.run(scores, feed_dict=fd)\n",
    "    return 1-conf[0]\n",
    "\n",
    "def get_rand_mixture():\n",
    "    type1, type2 = np.random.choice(TYPES, 2, replace=False)\n",
    "    _, _, doc_mix, doc_lbs = get_mixture(type1, type2)\n",
    "    return doc_mix, doc_lbs\n",
    "\n",
    "def flip_clust(clust):\n",
    "    return np.array([0 if i==1 else 1 for i in clust])\n",
    "\n",
    "def clust_accuracy(true, pred):\n",
    "    return max(accuracy_score(true, pred),\n",
    "               accuracy_score(true, flip_clust(pred)))\n",
    "\n",
    "def rand_evaluate(k=1000):\n",
    "    accuracies = []\n",
    "    for _ in range(k):\n",
    "        doc_mix, doc_lbs = get_rand_mixture()\n",
    "        doc_mix_sq, _ = batch(doc_mix)\n",
    "        doc_mix_sq = doc_mix_sq.T\n",
    "        doc_mix_clust = linkage(doc_mix_sq, method='average', metric=dist)\n",
    "        doc_prd = fcluster(doc_mix_clust, 2, criterion='maxclust') - 1 # label adjusted.\n",
    "        accuracies.append(clust_accuracy(doc_lbs, doc_prd))  \n",
    "    print('Average accuracy of {} samples = {}'.format(k, np.mean(accuracies)))\n",
    "\n",
    "def demo_evaluate(doc_mix, doc_lbs):\n",
    "    doc_mix_sq, _ = batch(doc_mix)\n",
    "    doc_mix_sq = doc_mix_sq.T\n",
    "    doc_mix_clust = linkage(doc_mix_sq, method='average', metric=dist)\n",
    "    doc_prd = fcluster(doc_mix_clust, 2, criterion='maxclust') - 1 # label adjusted.\n",
    "    acc = clust_accuracy(doc_lbs, doc_prd)\n",
    "    print('Clustering accuracy = {}'.format(acc))\n",
    "    print('\\n')\n",
    "    plt.figure(figsize=(25, 10))\n",
    "    plt.title('Hierarchical Clustering Dendrogram')\n",
    "    plt.xlabel('sample index')\n",
    "    plt.ylabel('distance')\n",
    "    dendrogram(\n",
    "        doc_mix_clust,\n",
    "        leaf_rotation=90.,  # rotates the x axis labels\n",
    "        leaf_font_size=15.,  # font size for the x axis labels\n",
    "    )\n",
    "    plt.show() \n",
    "    print('id| True | Pred | Sentence')\n",
    "    for i,(label,pred_label,code) in enumerate(list(zip(doc_lbs,doc_prd,doc_mix))):\n",
    "        if label==0:\n",
    "            print('\\033[1;37;40m {} | {}    | {}    | {}'.format(i,label,pred_label,to_sent(code)))\n",
    "        else:\n",
    "            print('\\033[1;30;47m {} | {}    | {}    | {}'.format(i,label,pred_label,to_sent(code)))\n",
    "    print('\\n' + Style.RESET_ALL)    "
   ]
  },
  {
   "cell_type": "code",
   "execution_count": 104,
   "metadata": {},
   "outputs": [
    {
     "name": "stdout",
     "output_type": "stream",
     "text": [
      "Clustering accuracy = 1.0\n",
      "\n",
      "\n"
     ]
    },
    {
     "data": {
      "image/png": "[encoded data removed]",
      "text/plain": [
       "<matplotlib.figure.Figure at 0x2aeb42bbc630>"
      ]
     },
     "metadata": {},
     "output_type": "display_data"
    },
    {
     "name": "stdout",
     "output_type": "stream",
     "text": [
      "id| True | Pred | Sentence\n",
      "\u001b[1;37;40m 0 | 0    | 0    | ['pear', 'tomato', 'share2', 'grape', 'share1', 'share2', 'tomato', 'tomato', 'pear', 'grape', 'strawberry', 'grape', 'share2']\n",
      "\u001b[1;37;40m 1 | 0    | 0    | ['share2', 'share1', 'tomato', 'strawberry', 'grape', 'pear']\n",
      "\u001b[1;37;40m 2 | 0    | 0    | ['apple', 'strawberry', 'pear', 'apple', 'share1', 'share2', 'apple', 'apple', 'grape', 'apple']\n",
      "\u001b[1;30;47m 3 | 1    | 1    | ['lake', 'hill', 'valley', 'lake', 'share1', 'valley', 'share2', 'share1', 'share2', 'share1']\n",
      "\u001b[1;37;40m 4 | 0    | 0    | ['grape', 'share2', 'tomato', 'pear', 'apple', 'strawberry', 'strawberry', 'tomato']\n",
      "\u001b[1;30;47m 5 | 1    | 1    | ['valley', 'hill', 'hill', 'mountain', 'mountain', 'lake', 'share1', 'river', 'mountain', 'river', 'mountain']\n",
      "\u001b[1;30;47m 6 | 1    | 1    | ['hill', 'river', 'share2', 'share1', 'hill', 'lake', 'mountain', 'valley', 'river']\n",
      "\u001b[1;30;47m 7 | 1    | 1    | ['mountain', 'hill', 'lake', 'share1', 'mountain', 'mountain', 'valley', 'mountain', 'mountain', 'share1', 'share1']\n",
      "\u001b[1;37;40m 8 | 0    | 0    | ['share1', 'strawberry', 'strawberry', 'grape', 'grape', 'tomato', 'share1']\n",
      "\u001b[1;30;47m 9 | 1    | 1    | ['hill', 'mountain', 'river', 'hill', 'mountain', 'hill', 'lake', 'valley', 'lake', 'lake', 'river', 'lake']\n",
      "\n",
      "\u001b[0m\n"
     ]
    }
   ],
   "source": [
    "demo_evaluate(*get_rand_mixture())"
   ]
  },
  {
   "cell_type": "code",
   "execution_count": 98,
   "metadata": {},
   "outputs": [
    {
     "name": "stdout",
     "output_type": "stream",
     "text": [
      "Average accuracy of 1000 samples = 0.8031999999999999\n"
     ]
    }
   ],
   "source": [
    "rand_evaluate()"
   ]
  },
  {
   "cell_type": "code",
   "execution_count": 99,
   "metadata": {},
   "outputs": [],
   "source": [
    "# import cProfile\n",
    "# dm, dl = get_rand_mixture()\n",
    "# cProfile.run('demo_evaluate(dm,dl)')"
   ]
  }
 ],
 "metadata": {
  "kernelspec": {
   "display_name": "Python 3",
   "language": "python",
   "name": "python3"
  },
  "language_info": {
   "codemirror_mode": {
    "name": "ipython",
    "version": 3
   },
   "file_extension": ".py",
   "mimetype": "text/x-python",
   "name": "python",
   "nbconvert_exporter": "python",
   "pygments_lexer": "ipython3",
   "version": "3.5.2"
  }
 },
 "nbformat": 4,
 "nbformat_minor": 2
}
