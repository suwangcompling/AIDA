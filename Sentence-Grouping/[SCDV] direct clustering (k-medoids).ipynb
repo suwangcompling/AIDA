{
 "cells": [
  {
   "cell_type": "code",
   "execution_count": 1,
   "metadata": {},
   "outputs": [],
   "source": [
    "import sys\n",
    "sys.path.insert(0, \"/work/04233/sw33286/AIDA-SCRIPTS\")"
   ]
  },
  {
   "cell_type": "code",
   "execution_count": 2,
   "metadata": {},
   "outputs": [],
   "source": [
    "import random\n",
    "import dill\n",
    "import numpy as np\n",
    "\n",
    "from kmedoids import kMedoids\n",
    "from scipy.spatial.distance import pdist, squareform\n",
    "from sklearn.metrics import accuracy_score"
   ]
  },
  {
   "cell_type": "code",
   "execution_count": 3,
   "metadata": {},
   "outputs": [],
   "source": [
    "from nyt_reader import NytReader\n",
    "nyt_reader = NytReader(nyt_dir=\"/work/04233/sw33286/AIDA-DATA/nyt_eng_salads_code/\",\n",
    "                       utils_dir=\"/work/04233/sw33286/AIDA-SCRIPTS\",\n",
    "                       dic_path=\"/work/04233/sw33286/AIDA-DATA/nyt_eng_salads_info/indexer_word2emb_100k.p\")"
   ]
  },
  {
   "cell_type": "code",
   "execution_count": 4,
   "metadata": {},
   "outputs": [],
   "source": [
    "save_path = \"/work/04233/sw33286/AIDA-MODEL-SAVE/SCDV/nyt-v100k-gmm100comp-gmm50iter-p004.p\"\n",
    "scdv = dill.load(open(save_path, 'rb'))"
   ]
  },
  {
   "cell_type": "code",
   "execution_count": 5,
   "metadata": {},
   "outputs": [],
   "source": [
    "# Preprocessing facilities\n",
    "\n",
    "def sent_to_scdv_emb(reader, encoder, sent):\n",
    "    dv = np.zeros(encoder.n_gmm_comps*encoder.wordemb_dim)\n",
    "    for w_idx in sent:\n",
    "        if w_idx>=0 and w_idx<=100001:\n",
    "            dv += encoder.wordcode2unsp_emb[w_idx]\n",
    "    return dv    \n",
    "\n",
    "def doc_to_scdv_emb(reader, encoder, doc):\n",
    "    return np.array([sent_to_scdv_emb(reader, encoder, sent) for sent in doc])\n",
    "\n",
    "def to_labels(C, doc_len): # C: {cls:[datum_id, ...], ...}\n",
    "    lbs = [0]*doc_len\n",
    "    for idx in C[1]:\n",
    "        lbs[idx] = 1\n",
    "    return lbs\n",
    "\n",
    "def run_kmedoids(reader, encoder, doc):\n",
    "    _, C = kMedoids(squareform(pdist(doc_to_scdv_emb(reader,encoder,doc))), 2) # [cls,num-member] list is ignored.\n",
    "    return to_labels(C, len(doc))"
   ]
  },
  {
   "cell_type": "code",
   "execution_count": 6,
   "metadata": {},
   "outputs": [],
   "source": [
    "# Evaluation\n",
    "\n",
    "def flip_clust(clust):\n",
    "    return np.array([0 if i==1 else 1 for i in clust])\n",
    "\n",
    "def clust_accuracy(true, pred):\n",
    "    return max(accuracy_score(true, pred),\n",
    "               accuracy_score(true, flip_clust(pred)))\n",
    "\n",
    "def rand_evaluation(reader, encoder, k=1000):\n",
    "    accuracies = []\n",
    "    for _ in range(k):\n",
    "        doc_mix, doc_labels = nyt_reader.get_rand_mixture()\n",
    "        try:\n",
    "            acc = clust_accuracy(doc_labels, run_kmedoids(reader, encoder, doc_mix))\n",
    "        except:\n",
    "            acc = 0.5\n",
    "        accuracies.append(acc)\n",
    "    return np.mean(accuracies)"
   ]
  },
  {
   "cell_type": "code",
   "execution_count": 7,
   "metadata": {},
   "outputs": [
    {
     "name": "stdout",
     "output_type": "stream",
     "text": [
      "... Round 1\n",
      "... Round 2\n",
      "... Round 3\n",
      "... Round 4\n",
      "... Round 5\n",
      "... Round 6\n",
      "... Round 7\n",
      "... Round 8\n",
      "... Round 9\n",
      "... Round 10\n",
      "\n",
      "\n",
      "Average accuracy over 10000 samples = 0.6146036991396805\n",
      "CPU times: user 2min 55s, sys: 4.68 s, total: 3min\n",
      "Wall time: 5min 39s\n"
     ]
    }
   ],
   "source": [
    "%%time\n",
    "\n",
    "n_round = 10\n",
    "n_sample = 1000\n",
    "avg_accs = []\n",
    "for i in range(n_round):\n",
    "    print('... Round {}'.format(i+1))\n",
    "    avg_accs.append(rand_evaluation(nyt_reader, scdv, k=n_sample))\n",
    "print('\\n')\n",
    "print('Average accuracy over {} samples = {}'.format(n_round*n_sample, np.mean(avg_accs)))"
   ]
  }
 ],
 "metadata": {
  "kernelspec": {
   "display_name": "Python 3",
   "language": "python",
   "name": "python3"
  },
  "language_info": {
   "codemirror_mode": {
    "name": "ipython",
    "version": 3
   },
   "file_extension": ".py",
   "mimetype": "text/x-python",
   "name": "python",
   "nbconvert_exporter": "python",
   "pygments_lexer": "ipython3",
   "version": "3.5.2"
  }
 },
 "nbformat": 4,
 "nbformat_minor": 2
}
