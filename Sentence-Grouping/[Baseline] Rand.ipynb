{
 "cells": [
  {
   "cell_type": "code",
   "execution_count": 1,
   "metadata": {},
   "outputs": [],
   "source": [
    "import sys\n",
    "sys.path.insert(0, \"/work/04233/sw33286/AIDA-SCRIPTS\")"
   ]
  },
  {
   "cell_type": "code",
   "execution_count": 2,
   "metadata": {},
   "outputs": [],
   "source": [
    "import os\n",
    "import time\n",
    "import random\n",
    "import shutil\n",
    "import dill\n",
    "import numpy as np"
   ]
  },
  {
   "cell_type": "code",
   "execution_count": 3,
   "metadata": {},
   "outputs": [],
   "source": [
    "nyt_code_dir = \"/work/04233/sw33286/AIDA-DATA/nyt_eng_salads_code/\"\n",
    "FILE_NAMES = os.listdir(nyt_code_dir)"
   ]
  },
  {
   "cell_type": "code",
   "execution_count": 4,
   "metadata": {},
   "outputs": [
    {
     "name": "stdout",
     "output_type": "stream",
     "text": [
      "ERROR @file 3365\n",
      "ERROR @file 7146\n",
      "Average accuracy @file 10000 = 0.5273923826016432\n",
      "Average accuracy @file 20000 = 0.5273371182640164\n",
      "ERROR @file 21935\n",
      "ERROR @file 22343\n",
      "Average accuracy @file 30000 = 0.5273146331913918\n",
      "Average accuracy @file 40000 = 0.5272776719745805\n",
      "Average accuracy @file 50000 = 0.5272099550828409\n",
      "ERROR @file 56860\n",
      "Average accuracy @file 60000 = 0.5271846247444694\n",
      "Average accuracy @file 70000 = 0.5271612625509458\n",
      "Average accuracy @file 80000 = 0.5271258537235236\n",
      "ERROR @file 81271\n",
      "Average accuracy @file 90000 = 0.5271443658570101\n",
      "ERROR @file 90969\n",
      "Average accuracy @file 100000 = 0.5271807047912754\n",
      "ERROR @file 107350\n",
      "Average accuracy @file 110000 = 0.5272241235316741\n",
      "ERROR @file 110059\n",
      "Average accuracy @file 120000 = 0.5272545572918858\n",
      "Average accuracy @file 130000 = 0.5272681100133111\n",
      "Average accuracy @file 140000 = 0.5272701295452138\n",
      "Average accuracy @file 150000 = 0.5272645252690241\n",
      "ERROR @file 151760\n",
      "Average accuracy @file 160000 = 0.5273025281531128\n",
      "Average accuracy @file 170000 = 0.5273040783581434\n",
      "ERROR @file 175844\n",
      "Average accuracy @file 180000 = 0.5273090506097518\n",
      "Average accuracy @file 190000 = 0.5273104051442393\n",
      "ERROR @file 193081\n",
      "Average accuracy @file 200000 = 0.5273059322717072\n",
      "Average accuracy @file 210000 = 0.5272940293324604\n",
      "ERROR @file 211244\n",
      "Average accuracy @file 220000 = 0.5272831192868844\n",
      "Average accuracy @file 230000 = 0.5273066830276518\n",
      "Average accuracy @file 240000 = 0.5273265647877289\n",
      "Average accuracy @file 250000 = 0.5273400740590837\n",
      "ERROR @file 253630\n",
      "Average accuracy @file 260000 = 0.5273507980696645\n",
      "Average accuracy @file 270000 = 0.5273392403002851\n",
      "Average accuracy @file 280000 = 0.5273321368101163\n",
      "Average accuracy @file 290000 = 0.5273484333899658\n",
      "Average accuracy @file 300000 = 0.5273386053800192\n",
      "Average accuracy @file 310000 = 0.5273478074597764\n",
      "Average accuracy @file 320000 = 0.5273329015489951\n",
      "ERROR @file 329319\n",
      "Average accuracy @file 330000 = 0.5273300407643143\n",
      "Average accuracy @file 340000 = 0.5273304392925441\n",
      "ERROR @file 347666\n",
      "Average accuracy @file 350000 = 0.5273106313185482\n",
      "Average accuracy @file 360000 = 0.5273058666969157\n",
      "Average accuracy @file 370000 = 0.5273179186019648\n",
      "ERROR @file 373492\n",
      "Average accuracy @file 380000 = 0.5273257640368993\n",
      "Average accuracy @file 390000 = 0.527325415812189\n",
      "Average accuracy @file 400000 = 0.5273304574710175\n",
      "Average accuracy @file 410000 = 0.5273354238218273\n",
      "ERROR @file 413614\n",
      "Average accuracy @file 420000 = 0.5273303847943558\n",
      "ERROR @file 423803\n",
      "Average accuracy @file 430000 = 0.5273193373879024\n",
      "Average accuracy @file 440000 = 0.5273190267170843\n",
      "Average accuracy @file 450000 = 0.5273205498775394\n",
      "ERROR @file 454441\n",
      "Average accuracy @file 460000 = 0.5273099151937893\n",
      "Average accuracy @file 470000 = 0.5273156796607767\n",
      "Average accuracy @file 480000 = 0.5273147934258052\n",
      "Average accuracy @file 490000 = 0.5273176008236298\n",
      "Average accuracy @file 500000 = 0.5273236185944093\n",
      "Average accuracy @file 510000 = 0.5273174903661881\n",
      "ERROR @file 517628\n",
      "Average accuracy @file 520000 = 0.5273216327406813\n",
      "ERROR @file 522421\n",
      "Average accuracy @file 530000 = 0.5273342966199434\n",
      "Average accuracy @file 540000 = 0.5273367588466167\n",
      "Average accuracy @file 550000 = 0.5273274354826942\n",
      "Average accuracy @file 560000 = 0.5273296904126977\n",
      "Average accuracy @file 570000 = 0.527319650585099\n",
      "CPU times: user 1min 13s, sys: 2min 11s, total: 3min 25s\n",
      "Wall time: 1h 58min 57s\n"
     ]
    }
   ],
   "source": [
    "%%time\n",
    "\n",
    "VERBOSE = 10000\n",
    "\n",
    "try:\n",
    "    accuracies = []\n",
    "    for i,filename in enumerate(FILE_NAMES):\n",
    "        try:\n",
    "            doc_a_code, doc_b_code, salad_code = dill.load(open(nyt_code_dir+filename, 'rb'))\n",
    "            num_maj_sents = max(len(doc_a_code), len(doc_b_code))\n",
    "            num_sents = len(salad_code)\n",
    "            accuracies.append(num_maj_sents / num_sents)\n",
    "        except:\n",
    "            print('ERROR @file {}'.format(i))\n",
    "        if i!=0 and i%VERBOSE==0:\n",
    "            print('Average accuracy @file {} = {}'.format(i, np.mean(accuracies)))\n",
    "except KeyboardInterrupt:\n",
    "    print('Stopped!')"
   ]
  },
  {
   "cell_type": "code",
   "execution_count": null,
   "metadata": {},
   "outputs": [],
   "source": []
  },
  {
   "cell_type": "code",
   "execution_count": null,
   "metadata": {},
   "outputs": [],
   "source": []
  },
  {
   "cell_type": "code",
   "execution_count": null,
   "metadata": {},
   "outputs": [],
   "source": []
  },
  {
   "cell_type": "code",
   "execution_count": null,
   "metadata": {},
   "outputs": [],
   "source": []
  },
  {
   "cell_type": "code",
   "execution_count": null,
   "metadata": {},
   "outputs": [],
   "source": []
  },
  {
   "cell_type": "code",
   "execution_count": null,
   "metadata": {},
   "outputs": [],
   "source": []
  },
  {
   "cell_type": "code",
   "execution_count": null,
   "metadata": {},
   "outputs": [],
   "source": []
  },
  {
   "cell_type": "code",
   "execution_count": null,
   "metadata": {},
   "outputs": [],
   "source": []
  },
  {
   "cell_type": "code",
   "execution_count": null,
   "metadata": {},
   "outputs": [],
   "source": []
  },
  {
   "cell_type": "code",
   "execution_count": null,
   "metadata": {},
   "outputs": [],
   "source": []
  },
  {
   "cell_type": "code",
   "execution_count": null,
   "metadata": {},
   "outputs": [],
   "source": []
  },
  {
   "cell_type": "code",
   "execution_count": null,
   "metadata": {},
   "outputs": [],
   "source": []
  },
  {
   "cell_type": "code",
   "execution_count": null,
   "metadata": {},
   "outputs": [],
   "source": []
  },
  {
   "cell_type": "code",
   "execution_count": null,
   "metadata": {},
   "outputs": [],
   "source": []
  },
  {
   "cell_type": "code",
   "execution_count": null,
   "metadata": {},
   "outputs": [],
   "source": []
  },
  {
   "cell_type": "code",
   "execution_count": null,
   "metadata": {},
   "outputs": [],
   "source": []
  },
  {
   "cell_type": "code",
   "execution_count": null,
   "metadata": {},
   "outputs": [],
   "source": []
  },
  {
   "cell_type": "code",
   "execution_count": null,
   "metadata": {},
   "outputs": [],
   "source": []
  },
  {
   "cell_type": "code",
   "execution_count": null,
   "metadata": {},
   "outputs": [],
   "source": []
  },
  {
   "cell_type": "code",
   "execution_count": null,
   "metadata": {},
   "outputs": [],
   "source": []
  },
  {
   "cell_type": "code",
   "execution_count": null,
   "metadata": {},
   "outputs": [],
   "source": []
  },
  {
   "cell_type": "code",
   "execution_count": null,
   "metadata": {},
   "outputs": [],
   "source": []
  },
  {
   "cell_type": "code",
   "execution_count": null,
   "metadata": {},
   "outputs": [],
   "source": []
  },
  {
   "cell_type": "code",
   "execution_count": null,
   "metadata": {},
   "outputs": [],
   "source": []
  },
  {
   "cell_type": "code",
   "execution_count": null,
   "metadata": {},
   "outputs": [],
   "source": []
  },
  {
   "cell_type": "code",
   "execution_count": null,
   "metadata": {},
   "outputs": [],
   "source": []
  },
  {
   "cell_type": "code",
   "execution_count": null,
   "metadata": {},
   "outputs": [],
   "source": []
  }
 ],
 "metadata": {
  "kernelspec": {
   "display_name": "Python 3",
   "language": "python",
   "name": "python3"
  },
  "language_info": {
   "codemirror_mode": {
    "name": "ipython",
    "version": 3
   },
   "file_extension": ".py",
   "mimetype": "text/x-python",
   "name": "python",
   "nbconvert_exporter": "python",
   "pygments_lexer": "ipython3",
   "version": "3.5.2"
  }
 },
 "nbformat": 4,
 "nbformat_minor": 2
}
