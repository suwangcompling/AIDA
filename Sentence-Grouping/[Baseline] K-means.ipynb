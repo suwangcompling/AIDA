{
 "cells": [
  {
   "cell_type": "code",
   "execution_count": 1,
   "metadata": {},
   "outputs": [],
   "source": [
    "import sys\n",
    "sys.path.insert(0, \"/home/04233/sw33286/AIDA-package\")"
   ]
  },
  {
   "cell_type": "code",
   "execution_count": 4,
   "metadata": {},
   "outputs": [],
   "source": [
    "from nyt_reader import NytReader\n",
    "nyt_reader = NytReader(nyt_dir=\"/work/04233/sw33286/AIDA-DATA/nyt_eng_salads_code/\",\n",
    "                       utils_dir=\"/work/04233/sw33286/AIDA-SCRIPTS\",\n",
    "                       dic_path=\"/work/04233/sw33286/AIDA-DATA/nyt_eng_salads_info/indexer_word2emb_100k.p\")"
   ]
  },
  {
   "cell_type": "code",
   "execution_count": 25,
   "metadata": {},
   "outputs": [],
   "source": [
    "import random\n",
    "import numpy as np\n",
    "\n",
    "from sklearn.cluster import KMeans\n",
    "from sklearn.metrics import accuracy_score"
   ]
  },
  {
   "cell_type": "code",
   "execution_count": 19,
   "metadata": {},
   "outputs": [],
   "source": [
    "# Preprocessing facilities\n",
    "\n",
    "def sent_to_avg_emb(reader, sent):\n",
    "    return np.array([reader.glove_embs[w_idx] for w_idx in sent]).mean(axis=0)\n",
    "\n",
    "def doc_to_sent_avg_emb(reader, doc):\n",
    "    return np.array([sent_to_avg_emb(reader, sent) for sent in doc])\n",
    "\n",
    "def run_kmeans(reader, doc):\n",
    "    km = KMeans(n_clusters=2).fit(doc_to_sent_avg_emb(reader, doc))\n",
    "    return km.labels_"
   ]
  },
  {
   "cell_type": "code",
   "execution_count": 35,
   "metadata": {},
   "outputs": [],
   "source": [
    "# Evaluation\n",
    "\n",
    "def flip_clust(clust):\n",
    "    return np.array([0 if i==1 else 1 for i in clust])\n",
    "\n",
    "def clust_accuracy(true, pred):\n",
    "    return max(accuracy_score(true, pred),\n",
    "               accuracy_score(true, flip_clust(pred)))\n",
    "\n",
    "def rand_evaluation(reader, k=1000):\n",
    "    accuracies = []\n",
    "    for _ in range(k):\n",
    "        doc_mix, doc_labels = nyt_reader.get_rand_mixture()\n",
    "        acc = clust_accuracy(doc_labels, run_kmeans(reader, doc_mix))\n",
    "        accuracies.append(acc)\n",
    "    return np.mean(accuracies)"
   ]
  },
  {
   "cell_type": "code",
   "execution_count": 36,
   "metadata": {},
   "outputs": [
    {
     "name": "stdout",
     "output_type": "stream",
     "text": [
      "... Round 1\n",
      "... Round 2\n",
      "... Round 3\n",
      "... Round 4\n",
      "... Round 5\n",
      "... Round 6\n",
      "... Round 7\n",
      "... Round 8\n",
      "... Round 9\n",
      "... Round 10\n",
      "\n",
      "\n",
      "Average accuracy over 10000 samples = 0.746301973058876\n",
      "CPU times: user 1min 38s, sys: 2.28 s, total: 1min 41s\n",
      "Wall time: 3min 44s\n"
     ]
    }
   ],
   "source": [
    "%%time\n",
    "\n",
    "n_round = 10\n",
    "n_sample = 1000\n",
    "avg_accs = []\n",
    "for i in range(n_round):\n",
    "    print('... Round {}'.format(i+1))\n",
    "    avg_accs.append(rand_evaluation(nyt_reader, k=n_sample))\n",
    "print('\\n')\n",
    "print('Average accuracy over {} samples = {}'.format(n_round*n_sample, np.mean(avg_accs)))"
   ]
  }
 ],
 "metadata": {
  "kernelspec": {
   "display_name": "Python 3",
   "language": "python",
   "name": "python3"
  },
  "language_info": {
   "codemirror_mode": {
    "name": "ipython",
    "version": 3
   },
   "file_extension": ".py",
   "mimetype": "text/x-python",
   "name": "python",
   "nbconvert_exporter": "python",
   "pygments_lexer": "ipython3",
   "version": "3.5.2"
  }
 },
 "nbformat": 4,
 "nbformat_minor": 2
}
