{
 "cells": [
  {
   "cell_type": "markdown",
   "metadata": {},
   "source": [
    "## SCDV encoder for document mixture clustering"
   ]
  },
  {
   "cell_type": "code",
   "execution_count": 107,
   "metadata": {},
   "outputs": [],
   "source": [
    "import sys\n",
    "sys.path.insert(0, \"/work/04233/sw33286/AIDA-SCRIPTS\")"
   ]
  },
  {
   "cell_type": "markdown",
   "metadata": {},
   "source": [
    "### Build SCDV"
   ]
  },
  {
   "cell_type": "code",
   "execution_count": 108,
   "metadata": {},
   "outputs": [],
   "source": [
    "import os\n",
    "import random\n",
    "import dill\n",
    "import numpy as np\n",
    "\n",
    "from helpers import Indexer, batch\n",
    "from itertools import chain, product\n",
    "from collections import defaultdict"
   ]
  },
  {
   "cell_type": "code",
   "execution_count": 109,
   "metadata": {},
   "outputs": [],
   "source": [
    "nyt_code_dir = \"/work/04233/sw33286/AIDA-DATA/nyt_eng_salads_code/\"\n",
    "FILE_NAMES = os.listdir(nyt_code_dir)\n",
    "\n",
    "info_path = \"/work/04233/sw33286/AIDA-DATA/nyt_eng_salads_info/indexer_word2emb_100k.p\"\n",
    "indexer100k, word2emb100k = dill.load(open(info_path, 'rb'))"
   ]
  },
  {
   "cell_type": "code",
   "execution_count": 110,
   "metadata": {},
   "outputs": [],
   "source": [
    "# Document reader for nyt_story_salad dataset.\n",
    "\n",
    "import os\n",
    "import dill\n",
    "from itertools import chain\n",
    "\n",
    "class NytDocGetter:\n",
    "    \n",
    "    def __init__(self, doc_dir):\n",
    "        self.doc_dir = doc_dir\n",
    "        self.filenames = os.listdir(self.doc_dir)\n",
    "        self.curr_idx = 0\n",
    "        self.size = len(self.filenames)\n",
    "    \n",
    "    def reset(self):\n",
    "        self.curr_idx = 0\n",
    "        \n",
    "    def has_next(self):\n",
    "        return self.curr_idx < self.size\n",
    "    \n",
    "    def get_doc(self):\n",
    "        if self.has_next():\n",
    "            filename = self.filenames[self.curr_idx]\n",
    "            self.curr_idx += 1\n",
    "            _, _, salad_code = dill.load(open(self.doc_dir+filename, 'rb'))\n",
    "            return list(chain.from_iterable(salad_code))\n",
    "        else:\n",
    "            raise EOFError(\"End of document list. Please reset document getter.\")"
   ]
  },
  {
   "cell_type": "code",
   "execution_count": 111,
   "metadata": {},
   "outputs": [],
   "source": [
    "import time\n",
    "import numpy as np\n",
    "from collections import Counter\n",
    "from sklearn.mixture import GMM\n",
    "\n",
    "class SCDV:\n",
    "    \n",
    "    def __init__(self, doc_getter, indexer, word2emb,\n",
    "                       n_gmm_comps=100, n_gmm_iters=50, sparse_p=0.04): # best hyperparams in original paper.\n",
    "        self.doc_getter = doc_getter\n",
    "        self.indexer = indexer\n",
    "        self.vocab_size = len(self.indexer)\n",
    "        self.word2emb = word2emb\n",
    "        self.wordemb_dim = len(self.word2emb.get('UNK',self.word2emb['the']))\n",
    "        self.n_gmm_comps = n_gmm_comps\n",
    "        self.n_gmm_iters = n_gmm_iters\n",
    "        self.p = sparse_p\n",
    "        self.error_fileids = []\n",
    "        \n",
    "    def train(self):\n",
    "        print('... Computing word counts', end=' ')\n",
    "        start = time.time()\n",
    "        self._compute_word_count()\n",
    "        print('(time elapsed = {})'.format(time.time()-start))\n",
    "        print('... Computing word idfs', end=' ')\n",
    "        start = time.time()\n",
    "        self._compute_word_idf()\n",
    "        print('(time elapsed = {})'.format(time.time()-start))\n",
    "        print('... Performing GMM clustering', end=' ')\n",
    "        start = time.time()\n",
    "        self._gmm_cluster()\n",
    "        print('(time elapsed = {})'.format(time.time()-start))\n",
    "        print('... Computing SCDV word representations', end=' ')\n",
    "        start = time.time()\n",
    "        self._compute_scdv()\n",
    "        print('(time elapsed = {})'.format(time.time()-start))\n",
    "        print('Ready to encode!')\n",
    "        \n",
    "    def _compute_word_count(self):\n",
    "        self.wordcode2count = Counter()\n",
    "        counter = 0\n",
    "        while self.doc_getter.has_next():\n",
    "            try:\n",
    "                for wordcode in self.doc_getter.get_doc():\n",
    "                    self.wordcode2count[wordcode] += 1\n",
    "            except:\n",
    "                self.error_fileids.append(counter)\n",
    "            counter += 1\n",
    "        self.doc_getter.reset()\n",
    "    \n",
    "    def _compute_word_idf(self):\n",
    "        self.wordcode2idf = dict()\n",
    "        num_docs = self.doc_getter.size\n",
    "        for wordcode,count in self.wordcode2count.items():\n",
    "            self.wordcode2idf[wordcode] = np.log(num_docs/count)\n",
    "    \n",
    "    def _get_word_emb_mat(self):\n",
    "        wordemb_mat = []\n",
    "        for i in range(len(self.indexer)):\n",
    "            wordemb_mat.append(self.word2emb[self.indexer.get_object(i)])\n",
    "        return np.array(wordemb_mat)\n",
    "    \n",
    "    def _gmm_cluster(self):\n",
    "        gmm = GMM(n_components=self.n_gmm_comps,covariance_type='tied',init_params='kmeans',n_iter=self.n_gmm_iters)\n",
    "        wordemb_mat = self._get_word_emb_mat()\n",
    "        gmm.fit(wordemb_mat)\n",
    "        self.pred_clus = gmm.predict(wordemb_mat)\n",
    "        self.pred_prob = gmm.predict_proba(wordemb_mat)\n",
    "        self._get_clus_given_wordcode = lambda wordcode: self.pred_clus[wordcode]\n",
    "        self._get_prob_given_wordcode = lambda wordcode: self.pred_prob[wordcode]\n",
    "    \n",
    "    def _compute_scdv(self):\n",
    "        # Compute unsparse word representations.\n",
    "        self.wordcode2unsp_emb = dict()\n",
    "        for word,emb in self.word2emb.items():\n",
    "            wordcode = self.indexer.get_index(word,add=False)\n",
    "            wcv = np.array([])\n",
    "            for prob in self._get_prob_given_wordcode(wordcode):\n",
    "                wcv = np.concatenate([wcv,emb*prob])\n",
    "            wtv = self.wordcode2idf[wordcode] * wcv\n",
    "            self.wordcode2unsp_emb[wordcode] = wtv # correction made here\n",
    "        # Compute sparse word representations.\n",
    "        dv_min_sum = dv_max_sum = 0\n",
    "        counter = 0\n",
    "        while self.doc_getter.has_next():\n",
    "            dv = np.zeros(self.n_gmm_comps*self.wordemb_dim)\n",
    "            try:\n",
    "                for wordcode in self.doc_getter.get_doc():\n",
    "                    if wordcode>=0 or wordcode<self.vocab_size: # within vocab range.\n",
    "                        dv += self.wordcode2unsp_emb[wordcode]\n",
    "                dv_min_sum += dv.min()\n",
    "                dv_max_sum += dv.max()\n",
    "            except:\n",
    "                pass # error already logged in word counting.\n",
    "            counter += 1\n",
    "        self.doc_getter.reset()\n",
    "        a_min = dv_min_sum / self.doc_getter.size\n",
    "        a_max = dv_max_sum / self.doc_getter.size\n",
    "        t = (np.abs(a_min) + np.abs(a_max)) / 2\n",
    "        self.epsilon = (self.p/100) * t # threshold of sparse cut.\n",
    "        \n",
    "    def _make_sparse(self, doc_vec):\n",
    "        return np.array([a_i if np.abs(a_i)>=self.epsilon else 0.0 for a_i in doc_vec])\n",
    "\n",
    "    def get_doc_vec(self, doc, encode=True, sparse=True):\n",
    "        if encode:\n",
    "            doccode = [self.indexer.get_index(word) if self.indexer.contains(word) else self.indexer.get_index('UNK')\n",
    "                       for word in doc]\n",
    "        else:\n",
    "            doccode = doc\n",
    "        dv = np.zeros(self.n_gmm_comps*self.wordemb_dim)\n",
    "        for wordcode in doccode:\n",
    "            dv += self.wordcode2unsp_emb[wordcode]\n",
    "        if sparse:\n",
    "            return self._make_sparse(dv)\n",
    "        return dv  "
   ]
  },
  {
   "cell_type": "code",
   "execution_count": 112,
   "metadata": {},
   "outputs": [],
   "source": [
    "scdv = SCDV(NytDocGetter(nyt_code_dir), indexer100k, word2emb100k)"
   ]
  },
  {
   "cell_type": "code",
   "execution_count": 113,
   "metadata": {
    "scrolled": false
   },
   "outputs": [
    {
     "name": "stdout",
     "output_type": "stream",
     "text": [
      "... Computing word counts (time elapsed = 7523.718257427216)\n",
      "... Computing word idfs (time elapsed = 0.16323351860046387)\n",
      "... Performing GMM clustering (time elapsed = 3824.9352333545685)\n",
      "... Computing SCDV word representations (time elapsed = 15092.62650513649)\n",
      "Ready to encode!\n",
      "CPU times: user 3h 9min 24s, sys: 16min 43s, total: 3h 26min 7s\n",
      "Wall time: 7h 20min 41s\n"
     ]
    }
   ],
   "source": [
    "%%time\n",
    "\n",
    "scdv.train()"
   ]
  },
  {
   "cell_type": "code",
   "execution_count": 114,
   "metadata": {},
   "outputs": [],
   "source": [
    "# save_path = \"/work/04233/sw33286/AIDA-MODEL-SAVE/SCDV/nyt-v100k-gmm100comp-gmm50iter-p004.p\"\n",
    "# dill.dump(scdv, open(save_path, 'wb'))"
   ]
  },
  {
   "cell_type": "markdown",
   "metadata": {},
   "source": [
    "### Evaluation"
   ]
  },
  {
   "cell_type": "code",
   "execution_count": 16,
   "metadata": {},
   "outputs": [],
   "source": [
    "# save_path = \"/work/04233/sw33286/AIDA-MODEL-SAVE/SCDV/nyt-v100k-gmm100comp-gmm50iter-p004.p\"\n",
    "# scdv_load = dill.load(open(save_path, 'rb'))"
   ]
  },
  {
   "cell_type": "code",
   "execution_count": 119,
   "metadata": {},
   "outputs": [],
   "source": [
    "import matplotlib.pyplot as plt\n",
    "%matplotlib inline\n",
    "from scipy.cluster.hierarchy import dendrogram, linkage\n",
    "from scipy.cluster.hierarchy import fcluster"
   ]
  },
  {
   "cell_type": "code",
   "execution_count": 120,
   "metadata": {},
   "outputs": [],
   "source": [
    "# Encoding with trained SCDV engine\n",
    "\n",
    "def encode(doccode, scdv_coder):\n",
    "    dv = np.zeros(scdv_coder.n_gmm_comps*scdv_coder.wordemb_dim)\n",
    "    for wordcode in doccode:\n",
    "        if wordcode>=0 and wordcode<=100001:\n",
    "            dv += scdv_coder.wordcode2unsp_emb[wordcode]\n",
    "    return dv\n",
    "\n",
    "def to_code(doc, scdv_coder):\n",
    "    return [scdv_coder.indexer.get_index(word,add=False) for word in doc if scdv_coder.indexer.contains(word)]\n",
    "\n",
    "def to_sent(code, scdv_coder):\n",
    "    return ' '.join([scdv_coder.indexer.get_object(c_) for c_ in code])\n",
    "\n",
    "def get_eval_format(filename, scdv_coder):\n",
    "    doc_a_code, doc_b_code, salad_code = dill.load(open(nyt_code_dir+filename, 'rb'))\n",
    "    doc_mix, doc_labels = [], []\n",
    "    for sentcode in salad_code:\n",
    "        doc_mix.append(encode(sentcode, scdv_coder))\n",
    "        if sentcode in doc_a_code:\n",
    "            doc_labels.append(0)\n",
    "        else:\n",
    "            doc_labels.append(1)\n",
    "    return np.array(doc_mix), np.array(doc_labels), salad_code\n",
    "\n",
    "# Evaluation with class-based clustering accuracy (im Walde, 2009)\n",
    "\n",
    "def clust_to_eval_input(pred_clust, true_clust):\n",
    "    pred_ass2cls, pred_cls2ass = [], defaultdict(list)\n",
    "    true_ass2cls, true_cls2ass = [], defaultdict(list)\n",
    "    for item_id,(pred_ass,true_ass) in enumerate(zip(pred_clust,true_clust)):\n",
    "        pred_ass2cls.append((item_id,pred_ass))\n",
    "        true_ass2cls.append((item_id,true_ass))\n",
    "        pred_cls2ass[pred_ass].append(item_id)\n",
    "        true_cls2ass[true_ass].append(item_id)\n",
    "    pred_ass2cls = dict(pred_ass2cls)\n",
    "    true_ass2cls = dict(true_ass2cls)\n",
    "    return pred_ass2cls, pred_cls2ass, true_ass2cls, true_cls2ass\n",
    "\n",
    "def cb(source_a2c, source_c2a, target_a2c, target_c2a):\n",
    "    prec_num = prec_denom = 0\n",
    "    for _,ass in source_c2a.items():\n",
    "        card_ass = len(ass)\n",
    "        mem_cls = set()\n",
    "        for elem in ass:\n",
    "            for t_elem,cls in target_a2c.items():\n",
    "                if elem==t_elem:\n",
    "                    mem_cls.add(cls)\n",
    "        prec_num += card_ass - len(mem_cls)\n",
    "        prec_denom += card_ass - 1\n",
    "    return prec_num / prec_denom   \n",
    "\n",
    "def cb_prec(p_a2c, p_c2a, t_a2c, t_c2a):\n",
    "    return cb(p_a2c, p_c2a, t_a2c, t_c2a)\n",
    "\n",
    "def cb_rec(p_a2c, p_c2a, t_a2c, t_c2a):\n",
    "    return cb(t_a2c, t_c2a, p_a2c, p_c2a)\n",
    "    \n",
    "def cb_f1(prec, rec):\n",
    "    return (2*rec*prec) / (rec+prec)\n",
    "\n",
    "# Random evaluation engine\n",
    "\n",
    "def run_evaluation(eval_size=1000):\n",
    "    verbose = 100\n",
    "    precs, recs, f1s = [], [], []\n",
    "    rand_filenames = np.random.choice(FILE_NAMES, size=eval_size, replace=False)\n",
    "    for i,filename in enumerate(rand_filenames):\n",
    "        doc_mix, doc_lbs, _ = get_eval_format(filename, scdv) # don't need original doc_mix here\n",
    "        try:\n",
    "            doc_mix_clust = linkage(doc_mix, method='average', metric='cosine')\n",
    "        except:\n",
    "            print('ERROR LOGGED @file {}'.format(filename))\n",
    "        doc_prd = fcluster(doc_mix_clust, 2, criterion='maxclust')\n",
    "        eval_input = clust_to_eval_input(doc_prd, doc_lbs)\n",
    "        prec, rec = cb_prec(*eval_input), cb_rec(*eval_input)\n",
    "        f1 = cb_f1(prec, rec)\n",
    "        precs.append(prec)\n",
    "        recs.append(rec)\n",
    "        f1s.append(f1)\n",
    "        if i!=0 and i%verbose==0:\n",
    "            print('Current average scores: pred={}, rec={}, f1={}'.format(np.mean(precs),\n",
    "                                                                          np.mean(recs),\n",
    "                                                                          np.mean(f1s)))\n",
    "    return precs, recs, f1s"
   ]
  },
  {
   "cell_type": "code",
   "execution_count": 121,
   "metadata": {},
   "outputs": [
    {
     "name": "stdout",
     "output_type": "stream",
     "text": [
      "ERROR LOGGED @file 48382.p\n",
      "Current average scores: pred=0.9292663991078455, rec=0.9292663991078455, f1=0.9292663991078455\n",
      "ERROR LOGGED @file 15413.p\n",
      "Current average scores: pred=0.9294422006386566, rec=0.9294422006386566, f1=0.9294422006386566\n",
      "Current average scores: pred=0.9300897177238169, rec=0.9300897177238169, f1=0.9300897177238169\n",
      "Current average scores: pred=0.9300236138675064, rec=0.9300236138675064, f1=0.9300236138675064\n",
      "Current average scores: pred=0.9315379096893265, rec=0.9315379096893265, f1=0.9315379096893265\n",
      "Current average scores: pred=0.9323866501314393, rec=0.9323866501314393, f1=0.9323866501314393\n",
      "Current average scores: pred=0.9330495471398083, rec=0.9330495471398083, f1=0.9330495471398083\n",
      "ERROR LOGGED @file 440994.p\n",
      "Current average scores: pred=0.9332801255668576, rec=0.9332801255668576, f1=0.9332801255668576\n",
      "ERROR LOGGED @file 48278.p\n",
      "Current average scores: pred=0.9337931787534575, rec=0.9337931787534575, f1=0.9337931787534575\n",
      "ERROR LOGGED @file 546227.p\n"
     ]
    }
   ],
   "source": [
    "precs, recs, f1s = run_evaluation()"
   ]
  },
  {
   "cell_type": "code",
   "execution_count": 122,
   "metadata": {},
   "outputs": [
    {
     "name": "stdout",
     "output_type": "stream",
     "text": [
      "Current average scores: pred=0.9340209457419603, rec=0.9340209457419603, f1=0.9340209457419603\n"
     ]
    }
   ],
   "source": [
    "print('Current average scores: pred={}, rec={}, f1={}'.format(np.mean(precs),\n",
    "                                                              np.mean(recs),\n",
    "                                                              np.mean(f1s)))"
   ]
  },
  {
   "cell_type": "code",
   "execution_count": 104,
   "metadata": {},
   "outputs": [],
   "source": [
    "def demo_evaluation(scdv_coder):\n",
    "    filename = random.choice(FILE_NAMES)\n",
    "    doc_mix, doc_lbs, original_doc_mix = get_eval_format(filename, scdv_coder)\n",
    "    try:\n",
    "        doc_mix_clust = linkage(doc_mix, method='average', metric='cosine')\n",
    "    except:\n",
    "        print('Current filename {} does not work, retry please.'.format(filename))\n",
    "        return\n",
    "    \n",
    "    doc_prd = fcluster(doc_mix_clust, 2, criterion='maxclust')\n",
    "    eval_input = clust_to_eval_input(doc_prd, doc_lbs)\n",
    "    prec, rec = cb_prec(*eval_input), cb_rec(*eval_input)\n",
    "    f1 = cb_f1(prec, rec)\n",
    "    print('Class-based clustering evaluation:')\n",
    "    print('Precision = {} | Recall = {} | F1 = {}'.format(prec,rec,f1))\n",
    "    print('\\n')\n",
    "    plt.figure(figsize=(25, 10))\n",
    "    plt.title('Hierarchical Clustering Dendrogram')\n",
    "    plt.xlabel('sample index')\n",
    "    plt.ylabel('distance')\n",
    "    dendrogram(\n",
    "        doc_mix_clust,\n",
    "        leaf_rotation=90.,  # rotates the x axis labels\n",
    "        leaf_font_size=15.,  # font size for the x axis labels\n",
    "    )\n",
    "    plt.show() \n",
    "    print('id| True | Pred | Sentence')\n",
    "    for i,(label,pred_label,code) in enumerate(list(zip(doc_lbs,doc_prd,original_doc_mix))):\n",
    "        print('{} | {}    | {}    | {}'.format(i,label,pred_label,to_sent(code, scdv_coder)))\n",
    "    print('\\n')    "
   ]
  },
  {
   "cell_type": "code",
   "execution_count": 106,
   "metadata": {},
   "outputs": [
    {
     "name": "stdout",
     "output_type": "stream",
     "text": [
      "Class-based clustering evaluation:\n",
      "Precision = 0.9333333333333333 | Recall = 0.9333333333333333 | F1 = 0.9333333333333333\n",
      "\n",
      "\n"
     ]
    },
    {
     "data": {
      "image/png": "[encoded data removed]",
      "text/plain": [
       "<matplotlib.figure.Figure at 0x2aca169392b0>"
      ]
     },
     "metadata": {},
     "output_type": "display_data"
    },
    {
     "name": "stdout",
     "output_type": "stream",
     "text": [
      "id| True | Pred | Sentence\n",
      "0 | 0    | 2    | UNK be with that experience in mind that the iconic south african leader , now 85 year old , slowly walk into a crowded news conference at the 15th international aids conference thursday to endorse a new initiative to battle the dual epidemic of tuberculosis and hiv .\n",
      "1 | 1    | 2    | and why UNK be silently swallow the new kerry deference toward the principle of pre - emptive war .\n",
      "2 | 0    | 2    | sixteen year ago , while imprison by the south african government , nelson mandela become seriously ill with tuberculosis .\n",
      "3 | 1    | 1    | and why clinton welfare reformer be willing to abandon hope of a hillary restoration next time around .\n",
      "4 | 0    | 2    | `` UNK can not win the battle against aids if UNK do not also fight tb , '' mandela say .\n",
      "5 | 0    | 2    | `` tb be too often a death sentence for people with aids . ''\n",
      "6 | 0    | 2    | UNK break immune system make UNK vulnerable to the tb bacterium , which attack and scar lung tissue .\n",
      "7 | 1    | 2    | all the traditional , internal party anger -- evoke derision as `` a firing squad line up in a circle '' -- be now redirect outward .\n",
      "8 | 0    | 2    | an ancient scourge that be one of the world 's leading killer , tuberculosis be now the lead because of death in africa and much of the develop world among people with aids .\n",
      "9 | 0    | 2    | in sub - saharan africa , two out of three tuberculosis patient be also infect with hiv .\n",
      "10 | 1    | 2    | the drive ideology be in - ism .\n",
      "11 | 1    | 1    | as a result , democrats be assemble in beantown for UNK most disciplined , argument - free out - of - power convention in memory .\n",
      "12 | 0    | 2    | four month of simple medical treatment save UNK life .\n",
      "13 | 1    | 2    | deeply rooted policy difference and personality clash that provide all the excitement of lusty , newsworthy democratic convention past -- and that surely exist today -- have be submerge in the fervent desire of the outs to get back in .\n",
      "14 | 1    | 2    | if anything can concentrate the mind of democratic partisan , UNK be four interminable year suffer republican leadership in the house , senate and white house -- the political equivalent of service in the siberian gulag .\n",
      "15 | 1    | 2    | the party - unifying target be that man in the white house and UNK UNK coterie of warmonger neocon homophobic tax cutter .\n",
      "16 | 1    | 2    | that be why UNK see business executive stroll across the commons arm in arm with the trial lawyer who be drive UNK out of business .\n",
      "\n",
      "\n"
     ]
    }
   ],
   "source": [
    "demo_evaluation(scdv)"
   ]
  }
 ],
 "metadata": {
  "kernelspec": {
   "display_name": "Python 3",
   "language": "python",
   "name": "python3"
  },
  "language_info": {
   "codemirror_mode": {
    "name": "ipython",
    "version": 3
   },
   "file_extension": ".py",
   "mimetype": "text/x-python",
   "name": "python",
   "nbconvert_exporter": "python",
   "pygments_lexer": "ipython3",
   "version": "3.5.2"
  }
 },
 "nbformat": 4,
 "nbformat_minor": 2
}
